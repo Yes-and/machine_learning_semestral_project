{
 "cells": [
  {
   "cell_type": "code",
   "execution_count": 1,
   "metadata": {},
   "outputs": [],
   "source": [
    "import os\n",
    "import pandas as pd"
   ]
  },
  {
   "cell_type": "code",
   "execution_count": 37,
   "metadata": {},
   "outputs": [],
   "source": [
    "def return_file_names(data_folder): # Recursively search subdirectories for csv files\n",
    "    file_list = os.listdir(data_folder)\n",
    "    csvs = [f.endswith(\".csv\") for f in file_list]\n",
    "    if all(csvs):\n",
    "        return [data_folder + \"/\" + file for file in file_list]\n",
    "    else:\n",
    "        all_files = []\n",
    "        for file in file_list:\n",
    "            file = data_folder + \"/\" + file\n",
    "            all_files.extend(return_file_names(file))\n",
    "        return all_files"
   ]
  },
  {
   "cell_type": "code",
   "execution_count": 40,
   "metadata": {},
   "outputs": [
    {
     "name": "stdout",
     "output_type": "stream",
     "text": [
      "['./data/train/belgium/1/0001.csv', './data/train/belgium/1/0102.csv', './data/train/belgium/1/0203.csv', './data/train/belgium/1/0304.csv', './data/train/belgium/1/0405.csv', './data/train/belgium/1/0506.csv', './data/train/belgium/1/0607.csv', './data/train/belgium/1/0708.csv', './data/train/belgium/1/0809.csv', './data/train/belgium/1/0910.csv', './data/train/belgium/1/1011.csv', './data/train/belgium/1/1112.csv', './data/train/belgium/1/1213.csv', './data/train/belgium/1/1314.csv', './data/train/belgium/1/1415.csv', './data/train/belgium/1/1516.csv', './data/train/belgium/1/1617.csv', './data/train/belgium/1/1718.csv', './data/train/belgium/1/1819.csv', './data/train/belgium/1/1920.csv', './data/train/belgium/1/2021.csv', './data/train/belgium/1/2122.csv', './data/train/england/0/0001.csv', './data/train/england/0/0102.csv', './data/train/england/0/0203.csv', './data/train/england/0/0304.csv', './data/train/england/0/0405.csv', './data/train/england/0/0506.csv', './data/train/england/0/0607.csv', './data/train/england/0/0708.csv', './data/train/england/0/0809.csv', './data/train/england/0/0910.csv', './data/train/england/0/1011.csv', './data/train/england/0/1112.csv', './data/train/england/0/1213.csv', './data/train/england/0/1314.csv', './data/train/england/0/1415.csv', './data/train/england/0/1516.csv', './data/train/england/0/1617.csv', './data/train/england/0/1718.csv', './data/train/england/0/1819.csv', './data/train/england/0/1920.csv', './data/train/england/0/2021.csv', './data/train/england/0/2122.csv', './data/train/england/1/0001.csv', './data/train/england/1/0102.csv', './data/train/england/1/0203.csv', './data/train/england/1/0304.csv', './data/train/england/1/0405.csv', './data/train/england/1/0506.csv', './data/train/england/1/0607.csv', './data/train/england/1/0708.csv', './data/train/england/1/0809.csv', './data/train/england/1/0910.csv', './data/train/england/1/1011.csv', './data/train/england/1/1112.csv', './data/train/england/1/1213.csv', './data/train/england/1/1314.csv', './data/train/england/1/1415.csv', './data/train/england/1/1516.csv', './data/train/england/1/1617.csv', './data/train/england/1/1718.csv', './data/train/england/1/1819.csv', './data/train/england/1/1920.csv', './data/train/england/1/2021.csv', './data/train/england/1/2122.csv', './data/train/england/2/0001.csv', './data/train/england/2/0102.csv', './data/train/england/2/0203.csv', './data/train/england/2/0304.csv', './data/train/england/2/0405.csv', './data/train/england/2/0506.csv', './data/train/england/2/0607.csv', './data/train/england/2/0708.csv', './data/train/england/2/0809.csv', './data/train/england/2/0910.csv', './data/train/england/2/1011.csv', './data/train/england/2/1112.csv', './data/train/england/2/1213.csv', './data/train/england/2/1314.csv', './data/train/england/2/1415.csv', './data/train/england/2/1516.csv', './data/train/england/2/1617.csv', './data/train/england/2/1718.csv', './data/train/england/2/1819.csv', './data/train/england/2/1920.csv', './data/train/england/2/2021.csv', './data/train/england/2/2122.csv', './data/train/england/3/0001.csv', './data/train/england/3/0102.csv', './data/train/england/3/0203.csv', './data/train/england/3/0304.csv', './data/train/england/3/0405.csv', './data/train/england/3/0506.csv', './data/train/england/3/0607.csv', './data/train/england/3/0708.csv', './data/train/england/3/0809.csv', './data/train/england/3/0910.csv', './data/train/england/3/1011.csv', './data/train/england/3/1112.csv', './data/train/england/3/1213.csv', './data/train/england/3/1314.csv', './data/train/england/3/1415.csv', './data/train/england/3/1516.csv', './data/train/england/3/1617.csv', './data/train/england/3/1718.csv', './data/train/england/3/1819.csv', './data/train/england/3/1920.csv', './data/train/england/3/2021.csv', './data/train/england/3/2122.csv', './data/train/france/1/0001.csv', './data/train/france/1/0102.csv', './data/train/france/1/0203.csv', './data/train/france/1/0304.csv', './data/train/france/1/0405.csv', './data/train/france/1/0506.csv', './data/train/france/1/0607.csv', './data/train/france/1/0708.csv', './data/train/france/1/0809.csv', './data/train/france/1/0910.csv', './data/train/france/1/1011.csv', './data/train/france/1/1112.csv', './data/train/france/1/1213.csv', './data/train/france/1/1314.csv', './data/train/france/1/1415.csv', './data/train/france/1/1516.csv', './data/train/france/1/1617.csv', './data/train/france/1/1718.csv', './data/train/france/1/1819.csv', './data/train/france/1/1920.csv', './data/train/france/1/2021.csv', './data/train/france/1/2122.csv', './data/train/france/2/0001.csv', './data/train/france/2/0102.csv', './data/train/france/2/0203.csv', './data/train/france/2/0304.csv', './data/train/france/2/0405.csv', './data/train/france/2/0506.csv', './data/train/france/2/0607.csv', './data/train/france/2/0708.csv', './data/train/france/2/0809.csv', './data/train/france/2/0910.csv', './data/train/france/2/1011.csv', './data/train/france/2/1112.csv', './data/train/france/2/1213.csv', './data/train/france/2/1314.csv', './data/train/france/2/1415.csv', './data/train/france/2/1516.csv', './data/train/france/2/1617.csv', './data/train/france/2/1718.csv', './data/train/france/2/1819.csv', './data/train/france/2/1920.csv', './data/train/france/2/2021.csv', './data/train/france/2/2122.csv', './data/train/germany/1/0001.csv', './data/train/germany/1/0102.csv', './data/train/germany/1/0203.csv', './data/train/germany/1/0304.csv', './data/train/germany/1/0405.csv', './data/train/germany/1/0506.csv', './data/train/germany/1/0607.csv', './data/train/germany/1/0708.csv', './data/train/germany/1/0809.csv', './data/train/germany/1/0910.csv', './data/train/germany/1/1011.csv', './data/train/germany/1/1112.csv', './data/train/germany/1/1213.csv', './data/train/germany/1/1314.csv', './data/train/germany/1/1415.csv', './data/train/germany/1/1516.csv', './data/train/germany/1/1617.csv', './data/train/germany/1/1718.csv', './data/train/germany/1/1819.csv', './data/train/germany/1/1920.csv', './data/train/germany/1/2021.csv', './data/train/germany/1/2122.csv', './data/train/germany/2/0001.csv', './data/train/germany/2/0102.csv', './data/train/germany/2/0203.csv', './data/train/germany/2/0304.csv', './data/train/germany/2/0405.csv', './data/train/germany/2/0506.csv', './data/train/germany/2/0607.csv', './data/train/germany/2/0708.csv', './data/train/germany/2/0809.csv', './data/train/germany/2/0910.csv', './data/train/germany/2/1011.csv', './data/train/germany/2/1112.csv', './data/train/germany/2/1213.csv', './data/train/germany/2/1314.csv', './data/train/germany/2/1415.csv', './data/train/germany/2/1516.csv', './data/train/germany/2/1617.csv', './data/train/germany/2/1718.csv', './data/train/germany/2/1819.csv', './data/train/germany/2/1920.csv', './data/train/germany/2/2021.csv', './data/train/germany/2/2122.csv', './data/train/greece/1/0001.csv', './data/train/greece/1/0102.csv', './data/train/greece/1/0203.csv', './data/train/greece/1/0304.csv', './data/train/greece/1/0405.csv', './data/train/greece/1/0506.csv', './data/train/greece/1/0607.csv', './data/train/greece/1/0708.csv', './data/train/greece/1/0809.csv', './data/train/greece/1/0910.csv', './data/train/greece/1/1011.csv', './data/train/greece/1/1112.csv', './data/train/greece/1/1213.csv', './data/train/greece/1/1314.csv', './data/train/greece/1/1415.csv', './data/train/greece/1/1516.csv', './data/train/greece/1/1617.csv', './data/train/greece/1/1718.csv', './data/train/greece/1/1819.csv', './data/train/greece/1/1920.csv', './data/train/greece/1/2021.csv', './data/train/greece/1/2122.csv', './data/train/italy/1/0001.csv', './data/train/italy/1/0102.csv', './data/train/italy/1/0203.csv', './data/train/italy/1/0304.csv', './data/train/italy/1/0405.csv', './data/train/italy/1/0506.csv', './data/train/italy/1/0607.csv', './data/train/italy/1/0708.csv', './data/train/italy/1/0809.csv', './data/train/italy/1/0910.csv', './data/train/italy/1/1011.csv', './data/train/italy/1/1112.csv', './data/train/italy/1/1213.csv', './data/train/italy/1/1314.csv', './data/train/italy/1/1415.csv', './data/train/italy/1/1516.csv', './data/train/italy/1/1617.csv', './data/train/italy/1/1718.csv', './data/train/italy/1/1819.csv', './data/train/italy/1/1920.csv', './data/train/italy/1/2021.csv', './data/train/italy/1/2122.csv', './data/train/italy/2/0001.csv', './data/train/italy/2/0102.csv', './data/train/italy/2/0203.csv', './data/train/italy/2/0304.csv', './data/train/italy/2/0405.csv', './data/train/italy/2/0506.csv', './data/train/italy/2/0607.csv', './data/train/italy/2/0708.csv', './data/train/italy/2/0809.csv', './data/train/italy/2/0910.csv', './data/train/italy/2/1011.csv', './data/train/italy/2/1112.csv', './data/train/italy/2/1213.csv', './data/train/italy/2/1314.csv', './data/train/italy/2/1415.csv', './data/train/italy/2/1516.csv', './data/train/italy/2/1617.csv', './data/train/italy/2/1718.csv', './data/train/italy/2/1819.csv', './data/train/italy/2/1920.csv', './data/train/italy/2/2021.csv', './data/train/italy/2/2122.csv', './data/train/netherlands/1/0001.csv', './data/train/netherlands/1/0102.csv', './data/train/netherlands/1/0203.csv', './data/train/netherlands/1/0304.csv', './data/train/netherlands/1/0405.csv', './data/train/netherlands/1/0506.csv', './data/train/netherlands/1/0607.csv', './data/train/netherlands/1/0708.csv', './data/train/netherlands/1/0809.csv', './data/train/netherlands/1/0910.csv', './data/train/netherlands/1/1011.csv', './data/train/netherlands/1/1112.csv', './data/train/netherlands/1/1213.csv', './data/train/netherlands/1/1314.csv', './data/train/netherlands/1/1415.csv', './data/train/netherlands/1/1516.csv', './data/train/netherlands/1/1617.csv', './data/train/netherlands/1/1718.csv', './data/train/netherlands/1/1819.csv', './data/train/netherlands/1/1920.csv', './data/train/netherlands/1/2021.csv', './data/train/netherlands/1/2122.csv', './data/train/portugal/1/0001.csv', './data/train/portugal/1/0102.csv', './data/train/portugal/1/0203.csv', './data/train/portugal/1/0304.csv', './data/train/portugal/1/0405.csv', './data/train/portugal/1/0506.csv', './data/train/portugal/1/0607.csv', './data/train/portugal/1/0708.csv', './data/train/portugal/1/0809.csv', './data/train/portugal/1/0910.csv', './data/train/portugal/1/1011.csv', './data/train/portugal/1/1112.csv', './data/train/portugal/1/1213.csv', './data/train/portugal/1/1314.csv', './data/train/portugal/1/1415.csv', './data/train/portugal/1/1516.csv', './data/train/portugal/1/1617.csv', './data/train/portugal/1/1718.csv', './data/train/portugal/1/1819.csv', './data/train/portugal/1/1920.csv', './data/train/portugal/1/2021.csv', './data/train/portugal/1/2122.csv', './data/train/scotland/0/0001.csv', './data/train/scotland/0/0102.csv', './data/train/scotland/0/0203.csv', './data/train/scotland/0/0304.csv', './data/train/scotland/0/0405.csv', './data/train/scotland/0/0506.csv', './data/train/scotland/0/0607.csv', './data/train/scotland/0/0708.csv', './data/train/scotland/0/0809.csv', './data/train/scotland/0/0910.csv', './data/train/scotland/0/1011.csv', './data/train/scotland/0/1112.csv', './data/train/scotland/0/1213.csv', './data/train/scotland/0/1314.csv', './data/train/scotland/0/1415.csv', './data/train/scotland/0/1516.csv', './data/train/scotland/0/1617.csv', './data/train/scotland/0/1718.csv', './data/train/scotland/0/1819.csv', './data/train/scotland/0/1920.csv', './data/train/scotland/0/2021.csv', './data/train/scotland/0/2122.csv', './data/train/scotland/1/0001.csv', './data/train/scotland/1/0102.csv', './data/train/scotland/1/0203.csv', './data/train/scotland/1/0304.csv', './data/train/scotland/1/0405.csv', './data/train/scotland/1/0506.csv', './data/train/scotland/1/0607.csv', './data/train/scotland/1/0708.csv', './data/train/scotland/1/0809.csv', './data/train/scotland/1/0910.csv', './data/train/scotland/1/1011.csv', './data/train/scotland/1/1112.csv', './data/train/scotland/1/1213.csv', './data/train/scotland/1/1314.csv', './data/train/scotland/1/1415.csv', './data/train/scotland/1/1516.csv', './data/train/scotland/1/1617.csv', './data/train/scotland/1/1718.csv', './data/train/scotland/1/1819.csv', './data/train/scotland/1/1920.csv', './data/train/scotland/1/2021.csv', './data/train/scotland/1/2122.csv', './data/train/scotland/2/0001.csv', './data/train/scotland/2/0102.csv', './data/train/scotland/2/0203.csv', './data/train/scotland/2/0304.csv', './data/train/scotland/2/0405.csv', './data/train/scotland/2/0506.csv', './data/train/scotland/2/0607.csv', './data/train/scotland/2/0708.csv', './data/train/scotland/2/0809.csv', './data/train/scotland/2/0910.csv', './data/train/scotland/2/1011.csv', './data/train/scotland/2/1112.csv', './data/train/scotland/2/1213.csv', './data/train/scotland/2/1314.csv', './data/train/scotland/2/1415.csv', './data/train/scotland/2/1516.csv', './data/train/scotland/2/1617.csv', './data/train/scotland/2/1718.csv', './data/train/scotland/2/1819.csv', './data/train/scotland/2/1920.csv', './data/train/scotland/2/2021.csv', './data/train/scotland/2/2122.csv', './data/train/scotland/3/0001.csv', './data/train/scotland/3/0102.csv', './data/train/scotland/3/0203.csv', './data/train/scotland/3/0304.csv', './data/train/scotland/3/0405.csv', './data/train/scotland/3/0506.csv', './data/train/scotland/3/0607.csv', './data/train/scotland/3/0708.csv', './data/train/scotland/3/0809.csv', './data/train/scotland/3/0910.csv', './data/train/scotland/3/1011.csv', './data/train/scotland/3/1112.csv', './data/train/scotland/3/1213.csv', './data/train/scotland/3/1314.csv', './data/train/scotland/3/1415.csv', './data/train/scotland/3/1516.csv', './data/train/scotland/3/1617.csv', './data/train/scotland/3/1718.csv', './data/train/scotland/3/1819.csv', './data/train/scotland/3/1920.csv', './data/train/scotland/3/2021.csv', './data/train/scotland/3/2122.csv', './data/train/spain/1/0001.csv', './data/train/spain/1/0102.csv', './data/train/spain/1/0203.csv', './data/train/spain/1/0304.csv', './data/train/spain/1/0405.csv', './data/train/spain/1/0506.csv', './data/train/spain/1/0607.csv', './data/train/spain/1/0708.csv', './data/train/spain/1/0809.csv', './data/train/spain/1/0910.csv', './data/train/spain/1/1011.csv', './data/train/spain/1/1112.csv', './data/train/spain/1/1213.csv', './data/train/spain/1/1314.csv', './data/train/spain/1/1415.csv', './data/train/spain/1/1516.csv', './data/train/spain/1/1617.csv', './data/train/spain/1/1718.csv', './data/train/spain/1/1819.csv', './data/train/spain/1/1920.csv', './data/train/spain/1/2021.csv', './data/train/spain/1/2122.csv', './data/train/spain/2/0001.csv', './data/train/spain/2/0102.csv', './data/train/spain/2/0203.csv', './data/train/spain/2/0304.csv', './data/train/spain/2/0405.csv', './data/train/spain/2/0506.csv', './data/train/spain/2/0607.csv', './data/train/spain/2/0708.csv', './data/train/spain/2/0809.csv', './data/train/spain/2/0910.csv', './data/train/spain/2/1011.csv', './data/train/spain/2/1112.csv', './data/train/spain/2/1213.csv', './data/train/spain/2/1314.csv', './data/train/spain/2/1415.csv', './data/train/spain/2/1516.csv', './data/train/spain/2/1617.csv', './data/train/spain/2/1718.csv', './data/train/spain/2/1819.csv', './data/train/spain/2/1920.csv', './data/train/spain/2/2021.csv', './data/train/spain/2/2122.csv', './data/train/turkey/1/0001.csv', './data/train/turkey/1/0102.csv', './data/train/turkey/1/0203.csv', './data/train/turkey/1/0304.csv', './data/train/turkey/1/0405.csv', './data/train/turkey/1/0506.csv', './data/train/turkey/1/0607.csv', './data/train/turkey/1/0708.csv', './data/train/turkey/1/0809.csv', './data/train/turkey/1/0910.csv', './data/train/turkey/1/1011.csv', './data/train/turkey/1/1112.csv', './data/train/turkey/1/1213.csv', './data/train/turkey/1/1314.csv', './data/train/turkey/1/1415.csv', './data/train/turkey/1/1516.csv', './data/train/turkey/1/1617.csv', './data/train/turkey/1/1718.csv', './data/train/turkey/1/1819.csv', './data/train/turkey/1/1920.csv', './data/train/turkey/1/2021.csv', './data/train/turkey/1/2122.csv']\n"
     ]
    }
   ],
   "source": [
    "train_files = return_file_names(\"./data/train\") # Obtain the paths of all csvs\n",
    "print(train_files)"
   ]
  },
  {
   "cell_type": "code",
   "execution_count": 72,
   "metadata": {},
   "outputs": [],
   "source": [
    "def concat_files(file_list):\n",
    "    first_iteration = True\n",
    "    for file in file_list:\n",
    "        if first_iteration:\n",
    "            df = pd.read_csv(file)\n",
    "            df[\"country\"], df[\"league\"], df[\"season\"] = file.split(\".\")[1].split(\"/\")[3:6]\n",
    "            first_iteration = False\n",
    "        else:\n",
    "            curr_df = pd.read_csv(file)\n",
    "            curr_df[\"country\"], curr_df[\"league\"], curr_df[\"season\"] = file.split(\".\")[1].split(\"/\")[3:6]\n",
    "            df = pd.concat([df, curr_df]).copy()\n",
    "    keep_columns = [col for col in df.columns if \"Unnamed:\" not in col]\n",
    "    df = df[keep_columns].copy()\n",
    "    return df"
   ]
  },
  {
   "cell_type": "code",
   "execution_count": 74,
   "metadata": {},
   "outputs": [
    {
     "data": {
      "text/html": [
       "<div>\n",
       "<style scoped>\n",
       "    .dataframe tbody tr th:only-of-type {\n",
       "        vertical-align: middle;\n",
       "    }\n",
       "\n",
       "    .dataframe tbody tr th {\n",
       "        vertical-align: top;\n",
       "    }\n",
       "\n",
       "    .dataframe thead th {\n",
       "        text-align: right;\n",
       "    }\n",
       "</style>\n",
       "<table border=\"1\" class=\"dataframe\">\n",
       "  <thead>\n",
       "    <tr style=\"text-align: right;\">\n",
       "      <th></th>\n",
       "      <th>Div</th>\n",
       "      <th>Date</th>\n",
       "      <th>HomeTeam</th>\n",
       "      <th>AwayTeam</th>\n",
       "      <th>FTHG</th>\n",
       "      <th>FTAG</th>\n",
       "      <th>FTR</th>\n",
       "      <th>HTHG</th>\n",
       "      <th>HTAG</th>\n",
       "      <th>HTR</th>\n",
       "      <th>...</th>\n",
       "      <th>SOD</th>\n",
       "      <th>SOA</th>\n",
       "      <th>LBAHH</th>\n",
       "      <th>LBAHA</th>\n",
       "      <th>LBAH</th>\n",
       "      <th>LB</th>\n",
       "      <th>LB.1</th>\n",
       "      <th>LB.2</th>\n",
       "      <th>HT</th>\n",
       "      <th>AT</th>\n",
       "    </tr>\n",
       "  </thead>\n",
       "  <tbody>\n",
       "    <tr>\n",
       "      <th>0</th>\n",
       "      <td>B1</td>\n",
       "      <td>20/05/01</td>\n",
       "      <td>Mechelen</td>\n",
       "      <td>Lierse</td>\n",
       "      <td>1.0</td>\n",
       "      <td>1.0</td>\n",
       "      <td>D</td>\n",
       "      <td>1.0</td>\n",
       "      <td>1.0</td>\n",
       "      <td>D</td>\n",
       "      <td>...</td>\n",
       "      <td>NaN</td>\n",
       "      <td>NaN</td>\n",
       "      <td>NaN</td>\n",
       "      <td>NaN</td>\n",
       "      <td>NaN</td>\n",
       "      <td>NaN</td>\n",
       "      <td>NaN</td>\n",
       "      <td>NaN</td>\n",
       "      <td>NaN</td>\n",
       "      <td>NaN</td>\n",
       "    </tr>\n",
       "    <tr>\n",
       "      <th>1</th>\n",
       "      <td>B1</td>\n",
       "      <td>17/09/00</td>\n",
       "      <td>Germinal</td>\n",
       "      <td>Club Brugge</td>\n",
       "      <td>2.0</td>\n",
       "      <td>3.0</td>\n",
       "      <td>A</td>\n",
       "      <td>0.0</td>\n",
       "      <td>1.0</td>\n",
       "      <td>A</td>\n",
       "      <td>...</td>\n",
       "      <td>NaN</td>\n",
       "      <td>NaN</td>\n",
       "      <td>NaN</td>\n",
       "      <td>NaN</td>\n",
       "      <td>NaN</td>\n",
       "      <td>NaN</td>\n",
       "      <td>NaN</td>\n",
       "      <td>NaN</td>\n",
       "      <td>NaN</td>\n",
       "      <td>NaN</td>\n",
       "    </tr>\n",
       "    <tr>\n",
       "      <th>2</th>\n",
       "      <td>B1</td>\n",
       "      <td>14/10/00</td>\n",
       "      <td>Beveren</td>\n",
       "      <td>Standard</td>\n",
       "      <td>0.0</td>\n",
       "      <td>3.0</td>\n",
       "      <td>A</td>\n",
       "      <td>0.0</td>\n",
       "      <td>2.0</td>\n",
       "      <td>A</td>\n",
       "      <td>...</td>\n",
       "      <td>NaN</td>\n",
       "      <td>NaN</td>\n",
       "      <td>NaN</td>\n",
       "      <td>NaN</td>\n",
       "      <td>NaN</td>\n",
       "      <td>NaN</td>\n",
       "      <td>NaN</td>\n",
       "      <td>NaN</td>\n",
       "      <td>NaN</td>\n",
       "      <td>NaN</td>\n",
       "    </tr>\n",
       "    <tr>\n",
       "      <th>3</th>\n",
       "      <td>B1</td>\n",
       "      <td>06/09/00</td>\n",
       "      <td>Lokeren</td>\n",
       "      <td>Mechelen</td>\n",
       "      <td>3.0</td>\n",
       "      <td>2.0</td>\n",
       "      <td>H</td>\n",
       "      <td>0.0</td>\n",
       "      <td>2.0</td>\n",
       "      <td>A</td>\n",
       "      <td>...</td>\n",
       "      <td>NaN</td>\n",
       "      <td>NaN</td>\n",
       "      <td>NaN</td>\n",
       "      <td>NaN</td>\n",
       "      <td>NaN</td>\n",
       "      <td>NaN</td>\n",
       "      <td>NaN</td>\n",
       "      <td>NaN</td>\n",
       "      <td>NaN</td>\n",
       "      <td>NaN</td>\n",
       "    </tr>\n",
       "    <tr>\n",
       "      <th>4</th>\n",
       "      <td>B1</td>\n",
       "      <td>27/08/00</td>\n",
       "      <td>Charleroi</td>\n",
       "      <td>Antwerp</td>\n",
       "      <td>1.0</td>\n",
       "      <td>0.0</td>\n",
       "      <td>H</td>\n",
       "      <td>1.0</td>\n",
       "      <td>0.0</td>\n",
       "      <td>H</td>\n",
       "      <td>...</td>\n",
       "      <td>NaN</td>\n",
       "      <td>NaN</td>\n",
       "      <td>NaN</td>\n",
       "      <td>NaN</td>\n",
       "      <td>NaN</td>\n",
       "      <td>NaN</td>\n",
       "      <td>NaN</td>\n",
       "      <td>NaN</td>\n",
       "      <td>NaN</td>\n",
       "      <td>NaN</td>\n",
       "    </tr>\n",
       "  </tbody>\n",
       "</table>\n",
       "<p>5 rows × 171 columns</p>\n",
       "</div>"
      ],
      "text/plain": [
       "  Div      Date   HomeTeam     AwayTeam  FTHG  FTAG FTR  HTHG  HTAG HTR  ...  \\\n",
       "0  B1  20/05/01   Mechelen       Lierse   1.0   1.0   D   1.0   1.0   D  ...   \n",
       "1  B1  17/09/00   Germinal  Club Brugge   2.0   3.0   A   0.0   1.0   A  ...   \n",
       "2  B1  14/10/00    Beveren     Standard   0.0   3.0   A   0.0   2.0   A  ...   \n",
       "3  B1  06/09/00    Lokeren     Mechelen   3.0   2.0   H   0.0   2.0   A  ...   \n",
       "4  B1  27/08/00  Charleroi      Antwerp   1.0   0.0   H   1.0   0.0   H  ...   \n",
       "\n",
       "   SOD  SOA  LBAHH  LBAHA  LBAH  LB  LB.1  LB.2   HT   AT  \n",
       "0  NaN  NaN    NaN    NaN   NaN NaN   NaN   NaN  NaN  NaN  \n",
       "1  NaN  NaN    NaN    NaN   NaN NaN   NaN   NaN  NaN  NaN  \n",
       "2  NaN  NaN    NaN    NaN   NaN NaN   NaN   NaN  NaN  NaN  \n",
       "3  NaN  NaN    NaN    NaN   NaN NaN   NaN   NaN  NaN  NaN  \n",
       "4  NaN  NaN    NaN    NaN   NaN NaN   NaN   NaN  NaN  NaN  \n",
       "\n",
       "[5 rows x 171 columns]"
      ]
     },
     "execution_count": 74,
     "metadata": {},
     "output_type": "execute_result"
    }
   ],
   "source": [
    "df = concat_files(train_files) # Join training data\n",
    "df.head()"
   ]
  },
  {
   "cell_type": "code",
   "execution_count": 85,
   "metadata": {},
   "outputs": [
    {
     "data": {
      "text/plain": [
       "(155173, 171)"
      ]
     },
     "execution_count": 85,
     "metadata": {},
     "output_type": "execute_result"
    }
   ],
   "source": [
    "df.shape"
   ]
  },
  {
   "cell_type": "code",
   "execution_count": 84,
   "metadata": {},
   "outputs": [],
   "source": [
    "df.to_csv(\"train_data.csv\")"
   ]
  },
  {
   "cell_type": "code",
   "execution_count": null,
   "metadata": {},
   "outputs": [],
   "source": []
  }
 ],
 "metadata": {
  "kernelspec": {
   "display_name": "venv",
   "language": "python",
   "name": "python3"
  },
  "language_info": {
   "codemirror_mode": {
    "name": "ipython",
    "version": 3
   },
   "file_extension": ".py",
   "mimetype": "text/x-python",
   "name": "python",
   "nbconvert_exporter": "python",
   "pygments_lexer": "ipython3",
   "version": "3.11.4"
  }
 },
 "nbformat": 4,
 "nbformat_minor": 2
}
