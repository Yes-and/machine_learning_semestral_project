{
 "cells": [
  {
   "cell_type": "code",
   "execution_count": 2,
   "metadata": {},
   "outputs": [],
   "source": [
    "import pandas as pd\n",
    "import numpy as np\n",
    "\n",
    "from sklearn.feature_selection import mutual_info_classif"
   ]
  },
  {
   "cell_type": "code",
   "execution_count": 3,
   "metadata": {},
   "outputs": [
    {
     "name": "stderr",
     "output_type": "stream",
     "text": [
      "C:\\Users\\vojte\\AppData\\Local\\Temp\\ipykernel_17640\\1015519785.py:1: DtypeWarning: Columns (65,76,91,154,170,171) have mixed types. Specify dtype option on import or set low_memory=False.\n",
      "  df = pd.read_csv(\"train_data.csv\", index_col=0) # Load the training data\n"
     ]
    }
   ],
   "source": [
    "df = pd.read_csv(\"train_data.csv\", index_col=0) # Load the training data"
   ]
  },
  {
   "cell_type": "code",
   "execution_count": 50,
   "metadata": {},
   "outputs": [],
   "source": [
    "examined_columns = [\"FTR\", # Dependent variable\n",
    "                    \"Attendance\", \"HS\", \"AS\", \"HST\", \"AST\", \"HHW\", \"AHW\", \"HC\", \"AC\", \n",
    "                    \"HF\", \"AF\", \"HFKC\", \"AFKC\", \"HO\", \"AO\", \"HY\", \"AY\", \"HR\", \"AR\", \"HBP\", \"ABP\"]\n",
    "X = df[examined_columns].copy()\n",
    "X[\"FTR\"] = X[\"FTR\"].map(\n",
    "    {\"D\": 0, \"A\": -1, \"H\": 1}\n",
    ") # Map categorical variables to numerical"
   ]
  },
  {
   "cell_type": "code",
   "execution_count": 51,
   "metadata": {},
   "outputs": [
    {
     "data": {
      "text/plain": [
       "AFKC          153867\n",
       "HFKC          153867\n",
       "AO            148674\n",
       "HHW           148666\n",
       "AHW           148654\n",
       "HO            148653\n",
       "ABP           148502\n",
       "Attendance    148497\n",
       "HBP           148486\n",
       "dtype: int64"
      ]
     },
     "execution_count": 51,
     "metadata": {},
     "output_type": "execute_result"
    }
   ],
   "source": [
    "X.isna().sum().sort_values(ascending=False)[:9]\n",
    "# Some variables have a lot of missing values\n",
    "# Our data has 153k entries, let's drop these variables"
   ]
  },
  {
   "cell_type": "code",
   "execution_count": 52,
   "metadata": {},
   "outputs": [
    {
     "data": {
      "text/plain": [
       "HF     65013\n",
       "AF     65004\n",
       "HST    63882\n",
       "AST    63855\n",
       "HC     63377\n",
       "dtype: int64"
      ]
     },
     "execution_count": 52,
     "metadata": {},
     "output_type": "execute_result"
    }
   ],
   "source": [
    "X.drop(columns=[\"HFKC\", \"AFKC\", \"AO\", \"HO\", \"HHW\", \"AHW\", \"HBP\", \"ABP\", \"Attendance\"], inplace = True)\n",
    "X.isna().sum().sort_values(ascending=False)[:5]\n",
    "# Dropping some columns now will not remove most of the data"
   ]
  },
  {
   "cell_type": "code",
   "execution_count": 53,
   "metadata": {},
   "outputs": [],
   "source": [
    "X.dropna(inplace=True)\n",
    "y = X.pop(\"FTR\") # Remove the dependent variable from the dataset"
   ]
  },
  {
   "cell_type": "code",
   "execution_count": 56,
   "metadata": {},
   "outputs": [
    {
     "name": "stdout",
     "output_type": "stream",
     "text": [
      "HS: 0.018008419741287307\n",
      "AS: 0.018169953800763805\n",
      "HST: 0.061617760555892076\n",
      "AST: 0.06065405718532535\n",
      "HC: 0.0010341485018754426\n",
      "AC: 0.0\n",
      "HF: 0.0\n",
      "AF: 0.0017803139371925791\n",
      "HY: 0.004525327871629514\n",
      "AY: 0.0017002103361014598\n",
      "HR: 0.00965725338736112\n",
      "AR: 0.00792678807580982\n"
     ]
    }
   ],
   "source": [
    "mutual_info_scores = mutual_info_classif(X, y)\n",
    "for feature, score in zip(X.columns, mutual_info_scores):\n",
    "    print(f\"{feature}: {score}\")\n",
    "# We see that some variables have a very negligible effect on the dependent variable\n",
    "# We can drop those as well"
   ]
  },
  {
   "cell_type": "code",
   "execution_count": 64,
   "metadata": {},
   "outputs": [
    {
     "name": "stdout",
     "output_type": "stream",
     "text": [
      "Correlation between HS and target is 0.17\n",
      "Correlation between AS and target is -0.17\n",
      "Correlation between HST and target is 0.31\n",
      "Correlation between AST and target is -0.31\n",
      "Correlation between HC and target is -0.02\n",
      "Correlation between AC and target is 0.0\n",
      "Correlation between HF and target is -0.0\n",
      "Correlation between AF and target is 0.0\n",
      "Correlation between HY and target is -0.08\n",
      "Correlation between AY and target is 0.03\n",
      "Correlation between HR and target is -0.13\n",
      "Correlation between AR and target is 0.12\n"
     ]
    }
   ],
   "source": [
    "for feature in X.columns:\n",
    "    print(f\"Correlation between {feature} and target is {round(np.corrcoef(X[feature], y)[1][0], 2)}\")\n",
    "# Correlation analysis tells us, that there are some weakly colinear variables with the target"
   ]
  }
 ],
 "metadata": {
  "kernelspec": {
   "display_name": "venv",
   "language": "python",
   "name": "python3"
  },
  "language_info": {
   "codemirror_mode": {
    "name": "ipython",
    "version": 3
   },
   "file_extension": ".py",
   "mimetype": "text/x-python",
   "name": "python",
   "nbconvert_exporter": "python",
   "pygments_lexer": "ipython3",
   "version": "3.11.4"
  }
 },
 "nbformat": 4,
 "nbformat_minor": 2
}
